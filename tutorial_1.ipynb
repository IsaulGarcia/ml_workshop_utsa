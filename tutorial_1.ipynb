{
 "cells": [
  {
   "cell_type": "markdown",
   "id": "bb132e84-8eb5-4aca-805e-a9d5d673eaab",
   "metadata": {
    "collapsed": false
   },
   "source": [
    "# Machine Learning Workshop: Tutorial 1 \n",
    "\n",
    "Here you will learn to use Pytorch basic syantx"
   ]
  },
  {
   "cell_type": "code",
   "execution_count": 1,
   "id": "e2946e91-c95d-4996-9745-06b69979058c",
   "metadata": {
    "collapsed": false
   },
   "outputs": [
    {
     "name": "stdout",
     "output_type": "stream",
     "text": [
      "Hello World\n",
      "This is another line\n"
     ]
    }
   ],
   "source": [
    "print(\"Hello World\")\n",
    "\n",
    "print(\"This is another line\")"
   ]
  },
  {
   "cell_type": "code",
   "execution_count": 3,
   "id": "f1632ba6-9a70-42f4-869d-08b6da947fa6",
   "metadata": {
    "collapsed": false
   },
   "outputs": [],
   "source": [
    "import numpy as np"
   ]
  },
  {
   "cell_type": "code",
   "execution_count": null,
   "id": "4e69c67f-4e8d-4495-8ccc-0c0ca8d1048c",
   "metadata": {
    "collapsed": false
   },
   "outputs": [],
   "source": []
  }
 ],
 "metadata": {
  "kernelspec": {
   "argv": [
    "python",
    "-m",
    "ipykernel_launcher",
    "-f",
    "{connection_file}"
   ],
   "display_name": "Python 3 (ipykernel)",
   "env": null,
   "interrupt_mode": "signal",
   "language": "python",
   "metadata": {
    "debugger": true
   },
   "name": "python3"
  },
  "language_info": {
   "codemirror_mode": {
    "name": "ipython",
    "version": 3
   },
   "file_extension": ".py",
   "mimetype": "text/x-python",
   "name": "python",
   "nbconvert_exporter": "python",
   "pygments_lexer": "ipython3",
   "version": "3.10.12"
  },
  "name": "tutorial_1.ipynb"
 },
 "nbformat": 4,
 "nbformat_minor": 5
}
